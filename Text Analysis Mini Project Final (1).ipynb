{
 "cells": [
  {
   "cell_type": "code",
   "execution_count": 1,
   "id": "75a15cbf",
   "metadata": {},
   "outputs": [],
   "source": [
    "import pandas as pd\n",
    "import numpy as np\n",
    "from sklearn.feature_extraction.text import TfidfVectorizer\n",
    "from sklearn.model_selection import train_test_split\n",
    "from sklearn.linear_model import LogisticRegressionCV\n",
    "import pickle"
   ]
  },
  {
   "cell_type": "code",
   "execution_count": 2,
   "id": "f9de1ab5",
   "metadata": {},
   "outputs": [
    {
     "name": "stdout",
     "output_type": "stream",
     "text": [
      "                                              Review  Rating\n",
      "0  nice hotel expensive parking got good deal sta...       4\n",
      "1  ok nothing special charge diamond member hilto...       2\n",
      "2  nice rooms not 4* experience hotel monaco seat...       3\n",
      "3  unique, great stay, wonderful time hotel monac...       5\n",
      "4  great stay great stay, went seahawk game aweso...       5\n"
     ]
    }
   ],
   "source": [
    "# Load the dataset\n",
    "path = r\"C:\\Users\\mukhi\\tripadvisor_hotel_reviews.csv\"\n",
    "df = pd.read_csv(path)\n",
    "\n",
    "# Display the first few rows to check the column names and contents\n",
    "print(df.head())"
   ]
  },
  {
   "cell_type": "code",
   "execution_count": 3,
   "id": "5cefc39b",
   "metadata": {},
   "outputs": [
    {
     "name": "stdout",
     "output_type": "stream",
     "text": [
      "Sentiment\n",
      "positive    15093\n",
      "negative     3214\n",
      "neutral      2184\n",
      "Name: count, dtype: int64\n"
     ]
    }
   ],
   "source": [
    "# Assuming the correct column names are 'Rating' and 'Review'\n",
    "# Map the ratings to binary labels\n",
    "def map_rating_to_sentiment(rating):\n",
    "    if rating in [4, 5]:\n",
    "        return 'positive'\n",
    "    elif rating in [1, 2]:\n",
    "        return 'negative'\n",
    "    else:\n",
    "        return 'neutral'\n",
    "\n",
    "df['Sentiment'] = df['Rating'].apply(map_rating_to_sentiment)\n",
    "\n",
    "# Check the distribution of sentiments\n",
    "print(df['Sentiment'].value_counts())"
   ]
  },
  {
   "cell_type": "code",
   "execution_count": 4,
   "id": "9c3ba0a4",
   "metadata": {},
   "outputs": [],
   "source": [
    "# Use the new 'Sentiment' column as the target variable\n",
    "y = df['Sentiment'].values\n",
    "X = df['Review'].values.astype('U')\n",
    "\n",
    "# Initialize TfidfVectorizer\n",
    "tfidf = TfidfVectorizer(\n",
    "    use_idf=True,\n",
    "    norm='l2',\n",
    "    smooth_idf=True,\n",
    "    stop_words='english'\n",
    ")\n"
   ]
  },
  {
   "cell_type": "code",
   "execution_count": 5,
   "id": "183e8df7",
   "metadata": {},
   "outputs": [],
   "source": [
    "# Transform the reviews\n",
    "X_tfidf = tfidf.fit_transform(X)\n",
    "\n",
    "# Split the data into training and testing sets\n",
    "X_train, X_test, y_train, y_test = train_test_split(X_tfidf, y, random_state=1, test_size=0.5, shuffle=False)"
   ]
  },
  {
   "cell_type": "code",
   "execution_count": 6,
   "id": "8e1b8930",
   "metadata": {},
   "outputs": [
    {
     "name": "stderr",
     "output_type": "stream",
     "text": [
      "[Parallel(n_jobs=-1)]: Using backend LokyBackend with 8 concurrent workers.\n",
      "[Parallel(n_jobs=-1)]: Done   6 out of  15 | elapsed:   27.4s remaining:   41.2s\n",
      "[Parallel(n_jobs=-1)]: Done  12 out of  15 | elapsed:   51.2s remaining:   12.7s\n",
      "[Parallel(n_jobs=-1)]: Done  15 out of  15 | elapsed:   53.9s finished\n"
     ]
    }
   ],
   "source": [
    "# Train a multi-class classifier\n",
    "clf = LogisticRegressionCV(cv=5,\n",
    "                           scoring='accuracy',\n",
    "                           random_state=0,\n",
    "                           n_jobs=-1,\n",
    "                           verbose=3,\n",
    "                           max_iter=300,\n",
    "                           multi_class='ovr').fit(X_train, y_train)\n",
    "\n",
    "# Save the model\n",
    "saved_model = open('saved_model.sav', 'wb')\n",
    "pickle.dump(clf, saved_model)\n",
    "saved_model.close()"
   ]
  },
  {
   "cell_type": "code",
   "execution_count": 7,
   "id": "84e81e7c",
   "metadata": {},
   "outputs": [
    {
     "name": "stdout",
     "output_type": "stream",
     "text": [
      "Model accuracy: 0.8617997267226235\n"
     ]
    }
   ],
   "source": [
    "# Load the model for prediction\n",
    "filename = 'saved_model.sav'\n",
    "saved_clf = pickle.load(open(filename, 'rb'))\n",
    "\n",
    "# Evaluate the model\n",
    "score = saved_clf.score(X_test, y_test)\n",
    "print(f\"Model accuracy: {score}\")"
   ]
  },
  {
   "cell_type": "code",
   "execution_count": 8,
   "id": "c420918e",
   "metadata": {},
   "outputs": [
    {
     "name": "stdout",
     "output_type": "stream",
     "text": [
      "              precision    recall  f1-score   support\n",
      "\n",
      "    negative       0.80      0.76      0.78      1513\n",
      "     neutral       0.55      0.14      0.22      1055\n",
      "    positive       0.88      0.98      0.93      7678\n",
      "\n",
      "    accuracy                           0.86     10246\n",
      "   macro avg       0.74      0.63      0.64     10246\n",
      "weighted avg       0.84      0.86      0.83     10246\n",
      "\n",
      "[[1150   68  295]\n",
      " [ 204  147  704]\n",
      " [  92   53 7533]]\n"
     ]
    }
   ],
   "source": [
    "from sklearn.metrics import classification_report,confusion_matrix                                      \n",
    "\n",
    "# Generate the classification report\n",
    "y_pred = saved_clf.predict(X_test)\n",
    "print(classification_report(y_test, y_pred))\n",
    "print(confusion_matrix(y_test, y_pred))"
   ]
  },
  {
   "cell_type": "code",
   "execution_count": 10,
   "id": "31990f99",
   "metadata": {},
   "outputs": [
    {
     "name": "stdout",
     "output_type": "stream",
     "text": [
      "['positive' 'negative' 'neutral' 'positive']\n"
     ]
    }
   ],
   "source": [
    "# Example input text for prediction\n",
    "input_text = [\"This hotel was fantastic! I loved it.\", \n",
    "              \"The room was dirty and the service was terrible.\",\n",
    "              \"It was an average stay, not too bad but not great either.\",\n",
    "              \"The hotel's amenities were satisfactory and the location was convenient.\"]\n",
    "\n",
    "# Transform the input text using the fitted vectorizer\n",
    "X_input = tfidf.transform(input_text)\n",
    "\n",
    "# Make predictions\n",
    "predictions = saved_clf.predict(X_input)\n",
    "\n",
    "# Print predictions\n",
    "print(predictions)"
   ]
  },
  {
   "cell_type": "code",
   "execution_count": null,
   "id": "8f7f62bf",
   "metadata": {},
   "outputs": [],
   "source": []
  }
 ],
 "metadata": {
  "kernelspec": {
   "display_name": "Python 3 (ipykernel)",
   "language": "python",
   "name": "python3"
  },
  "language_info": {
   "codemirror_mode": {
    "name": "ipython",
    "version": 3
   },
   "file_extension": ".py",
   "mimetype": "text/x-python",
   "name": "python",
   "nbconvert_exporter": "python",
   "pygments_lexer": "ipython3",
   "version": "3.11.5"
  }
 },
 "nbformat": 4,
 "nbformat_minor": 5
}
